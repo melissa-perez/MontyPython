{
 "cells": [
  {
   "cell_type": "code",
   "execution_count": 2,
   "metadata": {},
   "outputs": [],
   "source": [
    "import pandas as pd\n",
    "import numpy as np\n",
    "import matplotlib.pyplot as plt\n",
    "import seaborn as sns\n",
    "from sklearn.linear_model import LogisticRegression, LogisticRegressionCV\n",
    "from sklearn.model_selection import cross_val_score, train_test_split, GridSearchCV, RandomizedSearchCV\n",
    "from sklearn.neighbors import KNeighborsClassifier\n",
    "from sklearn.metrics import classification_report, confusion_matrix, roc_curve, roc_auc_score\n",
    "from sklearn.tree import DecisionTreeClassifier"
   ]
  },
  {
   "cell_type": "code",
   "execution_count": 3,
   "metadata": {},
   "outputs": [],
   "source": [
    "BreastCancer = pd.read_csv(\"BreastCancer.csv\")"
   ]
  },
  {
   "cell_type": "code",
   "execution_count": 41,
   "metadata": {},
   "outputs": [
    {
     "name": "stdout",
     "output_type": "stream",
     "text": [
      "(569, 33)\n",
      "         id diagnosis  radius_mean  texture_mean  perimeter_mean  area_mean  \\\n",
      "0    842302         M        17.99         10.38          122.80     1001.0   \n",
      "1    842517         M        20.57         17.77          132.90     1326.0   \n",
      "2  84300903         M        19.69         21.25          130.00     1203.0   \n",
      "3  84348301         M        11.42         20.38           77.58      386.1   \n",
      "4  84358402         M        20.29         14.34          135.10     1297.0   \n",
      "\n",
      "   smoothness_mean  compactness_mean  concavity_mean  concave points_mean  \\\n",
      "0          0.11840           0.27760          0.3001              0.14710   \n",
      "1          0.08474           0.07864          0.0869              0.07017   \n",
      "2          0.10960           0.15990          0.1974              0.12790   \n",
      "3          0.14250           0.28390          0.2414              0.10520   \n",
      "4          0.10030           0.13280          0.1980              0.10430   \n",
      "\n",
      "      ...       texture_worst  perimeter_worst  area_worst  smoothness_worst  \\\n",
      "0     ...               17.33           184.60      2019.0            0.1622   \n",
      "1     ...               23.41           158.80      1956.0            0.1238   \n",
      "2     ...               25.53           152.50      1709.0            0.1444   \n",
      "3     ...               26.50            98.87       567.7            0.2098   \n",
      "4     ...               16.67           152.20      1575.0            0.1374   \n",
      "\n",
      "   compactness_worst  concavity_worst  concave points_worst  symmetry_worst  \\\n",
      "0             0.6656           0.7119                0.2654          0.4601   \n",
      "1             0.1866           0.2416                0.1860          0.2750   \n",
      "2             0.4245           0.4504                0.2430          0.3613   \n",
      "3             0.8663           0.6869                0.2575          0.6638   \n",
      "4             0.2050           0.4000                0.1625          0.2364   \n",
      "\n",
      "   fractal_dimension_worst  Unnamed: 32  \n",
      "0                  0.11890          NaN  \n",
      "1                  0.08902          NaN  \n",
      "2                  0.08758          NaN  \n",
      "3                  0.17300          NaN  \n",
      "4                  0.07678          NaN  \n",
      "\n",
      "[5 rows x 33 columns]\n"
     ]
    }
   ],
   "source": [
    "print(BreastCancer.shape)\n",
    "print(BreastCancer.head())"
   ]
  },
  {
   "cell_type": "code",
   "execution_count": 56,
   "metadata": {},
   "outputs": [
    {
     "name": "stdout",
     "output_type": "stream",
     "text": [
      "(569, 32)\n",
      "   radius_mean  texture_mean  perimeter_mean  area_mean  smoothness_mean  \\\n",
      "0        17.99         10.38          122.80     1001.0          0.11840   \n",
      "1        20.57         17.77          132.90     1326.0          0.08474   \n",
      "2        19.69         21.25          130.00     1203.0          0.10960   \n",
      "3        11.42         20.38           77.58      386.1          0.14250   \n",
      "4        20.29         14.34          135.10     1297.0          0.10030   \n",
      "\n",
      "   compactness_mean  concavity_mean  concave points_mean  symmetry_mean  \\\n",
      "0           0.27760          0.3001              0.14710         0.2419   \n",
      "1           0.07864          0.0869              0.07017         0.1812   \n",
      "2           0.15990          0.1974              0.12790         0.2069   \n",
      "3           0.28390          0.2414              0.10520         0.2597   \n",
      "4           0.13280          0.1980              0.10430         0.1809   \n",
      "\n",
      "   fractal_dimension_mean           ...             radius_worst  \\\n",
      "0                 0.07871           ...                    25.38   \n",
      "1                 0.05667           ...                    24.99   \n",
      "2                 0.05999           ...                    23.57   \n",
      "3                 0.09744           ...                    14.91   \n",
      "4                 0.05883           ...                    22.54   \n",
      "\n",
      "   texture_worst  perimeter_worst  area_worst  smoothness_worst  \\\n",
      "0          17.33           184.60      2019.0            0.1622   \n",
      "1          23.41           158.80      1956.0            0.1238   \n",
      "2          25.53           152.50      1709.0            0.1444   \n",
      "3          26.50            98.87       567.7            0.2098   \n",
      "4          16.67           152.20      1575.0            0.1374   \n",
      "\n",
      "   compactness_worst  concavity_worst  concave points_worst  symmetry_worst  \\\n",
      "0             0.6656           0.7119                0.2654          0.4601   \n",
      "1             0.1866           0.2416                0.1860          0.2750   \n",
      "2             0.4245           0.4504                0.2430          0.3613   \n",
      "3             0.8663           0.6869                0.2575          0.6638   \n",
      "4             0.2050           0.4000                0.1625          0.2364   \n",
      "\n",
      "   fractal_dimension_worst  \n",
      "0                  0.11890  \n",
      "1                  0.08902  \n",
      "2                  0.08758  \n",
      "3                  0.17300  \n",
      "4                  0.07678  \n",
      "\n",
      "[5 rows x 30 columns]\n",
      "0    1\n",
      "1    1\n",
      "2    1\n",
      "3    1\n",
      "4    1\n",
      "Name: M, dtype: uint8\n"
     ]
    }
   ],
   "source": [
    "data = BreastCancer.iloc[:,:-1].dropna()\n",
    "print(data.shape)\n",
    "X = data.iloc[:,2:]\n",
    "print(X.head())\n",
    "y = pd.get_dummies(data[\"diagnosis\"]).M\n",
    "print(y.head())"
   ]
  },
  {
   "cell_type": "code",
   "execution_count": 63,
   "metadata": {
    "scrolled": true
   },
   "outputs": [
    {
     "name": "stdout",
     "output_type": "stream",
     "text": [
      "[[142   6]\n",
      " [  7  73]]\n",
      "             precision    recall  f1-score   support\n",
      "\n",
      "          0       0.95      0.96      0.96       148\n",
      "          1       0.92      0.91      0.92        80\n",
      "\n",
      "avg / total       0.94      0.94      0.94       228\n",
      "\n",
      "AUC scores computed using 5-fold cross-validation: [0.99386305 0.99192506 0.99664655 0.98289738 0.99664655]\n",
      "\n",
      "Mean AUC scores computed using 5-fold cross-validation: 0.9923957179771132\n",
      "\n",
      "Precision computed using 5-fold cross-validation: [0.97297297 0.95       0.97560976 0.92857143 0.93181818]\n",
      "\n",
      "Mean Precision computed using 5-fold cross-validation: 0.9517944678920289\n"
     ]
    }
   ],
   "source": [
    "X_train, X_test, y_train, y_test = train_test_split(X, y, test_size = 0.4, random_state=1)\n",
    "logit1 = LogisticRegression()\n",
    "\n",
    "logit1.fit(X_train, y_train)\n",
    "pred = logit1.predict(X_test)\n",
    "\n",
    "print(confusion_matrix(y_test, pred))\n",
    "print(classification_report(y_test, pred))\n",
    "\n",
    "cv_auc_logit = cross_val_score(logit1, X, y, cv=5, scoring=\"roc_auc\")\n",
    "print(\"AUC scores computed using 5-fold cross-validation: {}\".format(cv_auc_logit)+\"\\n\")\n",
    "\n",
    "LogitaucMean = cv_auc_logit.mean()\n",
    "print(\"Mean AUC scores computed using 5-fold cross-validation: {}\".format(LogitaucMean)+\"\\n\")\n",
    "\n",
    "cv_prec_logit = cross_val_score(logit1, X, y, cv=5, scoring=\"precision\")\n",
    "print(\"Precision computed using 5-fold cross-validation: {}\".format(cv_prec_logit)+\"\\n\")\n",
    "\n",
    "LogitprecMean = cv_prec_logit.mean()\n",
    "print(\"Mean Precision computed using 5-fold cross-validation: {}\".format(LogitprecMean))"
   ]
  },
  {
   "cell_type": "code",
   "execution_count": 89,
   "metadata": {},
   "outputs": [
    {
     "name": "stdout",
     "output_type": "stream",
     "text": [
      "Tuned Decision Tree Parameters: {'min_samples_leaf': 10, 'max_features': 14, 'max_depth': 10, 'criterion': 'entropy'}\n",
      "\n",
      "Best score is 0.9472759226713533\n"
     ]
    }
   ],
   "source": [
    "np.random.seed(1)\n",
    "param_dist = {\"max_depth\": np.random.randint(1, 33, size=32), \"max_features\": np.random.randint(1, 33, size=32), \"min_samples_leaf\": np.random.randint(1, 33, size=32), \"criterion\": [\"gini\", \"entropy\"]}\n",
    "tree = DecisionTreeClassifier()\n",
    "treecv = RandomizedSearchCV(tree, param_dist, cv=5, random_state=42)\n",
    "\n",
    "treecv.fit(X, y)\n",
    "\n",
    "print(\"Tuned Decision Tree Parameters: {}\".format(treecv.best_params_)+\"\\n\")\n",
    "print(\"Best score is {}\".format(treecv.best_score_))"
   ]
  },
  {
   "cell_type": "code",
   "execution_count": 92,
   "metadata": {},
   "outputs": [
    {
     "name": "stdout",
     "output_type": "stream",
     "text": [
      "[[139   9]\n",
      " [ 12  68]]\n",
      "             precision    recall  f1-score   support\n",
      "\n",
      "          0       0.92      0.94      0.93       148\n",
      "          1       0.88      0.85      0.87        80\n",
      "\n",
      "avg / total       0.91      0.91      0.91       228\n",
      "\n",
      "AUC scores computed using 5-fold cross-validation: [0.9622093  0.937177   0.9619383  0.97702884 0.96026157]\n",
      "\n"
     ]
    }
   ],
   "source": [
    "tree1 = DecisionTreeClassifier(min_samples_leaf=10, max_features=14, max_depth=10, criterion=\"entropy\")\n",
    "\n",
    "tree1.fit(X_train, y_train)\n",
    "pred = tree1.predict(X_test)\n",
    "\n",
    "print(confusion_matrix(y_test, pred))\n",
    "print(classification_report(y_test, pred))\n",
    "\n",
    "cv_auc_tree = cross_val_score(tree1, X, y, cv=5, scoring=\"roc_auc\")\n",
    "print(\"AUC scores computed using 5-fold cross-validation: {}\".format(cv_auc_tree)+\"\\n\")\n",
    "\n",
    "TreeaucMean = cv_auc_tree.mean()\n",
    "print(\"Mean AUC scores computed using 5-fold cross-validation: {}\".format(LogitaucMean)+\"\\n\")\n",
    "\n",
    "cv_prec_logit = cross_val_score(logit1, X, y, cv=5, scoring=\"precision\")\n",
    "print(\"Precision computed using 5-fold cross-validation: {}\".format(cv_prec_logit)+\"\\n\")\n",
    "\n",
    "LogitprecMean = cv_prec_logit.mean()\n",
    "print(\"Mean Precision computed using 5-fold cross-validation: {}\".format(LogitprecMean))"
   ]
  },
  {
   "cell_type": "code",
   "execution_count": null,
   "metadata": {},
   "outputs": [],
   "source": []
  }
 ],
 "metadata": {
  "kernelspec": {
   "display_name": "Python 3",
   "language": "python",
   "name": "python3"
  },
  "language_info": {
   "codemirror_mode": {
    "name": "ipython",
    "version": 3
   },
   "file_extension": ".py",
   "mimetype": "text/x-python",
   "name": "python",
   "nbconvert_exporter": "python",
   "pygments_lexer": "ipython3",
   "version": "3.6.4"
  }
 },
 "nbformat": 4,
 "nbformat_minor": 2
}
