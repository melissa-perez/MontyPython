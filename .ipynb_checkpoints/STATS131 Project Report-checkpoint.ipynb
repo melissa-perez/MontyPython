{
 "cells": [
  {
   "cell_type": "markdown",
   "metadata": {},
   "source": [
    "<h1><center> Breast Cancer Diagnosis Report</center></h1>\n",
    "<h3><center> -- Predict Whether the Cancer is Benign or Malignant </center></h3>\n",
    "<h4><center> By Jemma Le, Annie Lee, Melissa Perez, Yan Bo Zeng</center></h4>"
   ]
  },
  {
   "cell_type": "markdown",
   "metadata": {},
   "source": [
    "<h1><center> Breast Cancer Diagnosis Report</center></h1>\n",
    "<h3><center> -- Predict Whether the Cancer is Benign or Malignant </center></h3>\n",
    "<h4><center> By Jemma Le, Annie Lee, Melissa Perez, Yan Bo Zeng</center></h4>"
   ]
  },
  {
   "cell_type": "markdown",
   "metadata": {},
   "source": [
    "## I. Context and Description of the Data"
   ]
  },
  {
   "cell_type": "markdown",
   "metadata": {},
   "source": [
    "#### A. Background information"
   ]
  },
  {
   "cell_type": "markdown",
   "metadata": {},
   "source": [
    "The Breast Cancer Diagnostic Data Set was created by Dr. William H. Wolberg, W. Nick Street, and Olvi L. Mangasarian, professors at University of Wisconsin. It was constructed on the demand of building sound statistical models to predict whether a breast tumor is benign, noncancerous, or malignant, cancerous, based on the features of cell nucleus sampled from the breast tumor. According to Dr. Wolberg, this work grew out of his desire to accurately diagnose breast smasses based solely on a Fine Needle Aspiration (FNA). He identified nine visually assessed\n",
    "characteristics of an FNA sample which he considered relevant to diagnosis. A classifier was then constructed using the multi-surface method (MSM) of pattern separation on these nine\n",
    "features that successfully diagnosed 97% of new cases. Later, the resulting dataset was saved and published for free as this Breast Cancer Diagnostic Data Set.\n",
    "\n",
    "There are 10 real-valued features stored in the data set. Each of them was computed from\n",
    "a digitized image of a Fine Needle Aspirate (FNA) of a breast mass. They describe\n",
    "characteristics of the cell nuclei present in the image:\n",
    "1. Radius – mean of distances from center to points on the perimeter\n",
    "2. Texture – standard deviation of gray-scale values\n",
    "3. Perimeter\n",
    "4. Area\n",
    "5. Smoothness – local variation in radius lengths\n",
    "6. Compactness – (perimeter ^ 2 / area) – 1\n",
    "7. Concavity – severity of concave portions of the contour\n",
    "8. Concave Points – number of concave portions of the contour\n",
    "9. Symmetry\n",
    "10. Fractal Dimension – coastline approximation – 1\n",
    "The data set stores the mean, standard error, and “worsts”, which represent the mean of the three\n",
    "largest values of these features computed for each image, resulting in 30 features.\n",
    "The collection of this data set was initiated by Dr. Wolberg in 1990 as Dr. Nick Street’s\n",
    "research team began to the help with the image analysis. The results of the research have been\n",
    "consolidated into a software system known as Xcyt. The data collection process was performed\n",
    "as follows:\n",
    "1. An FNA was taken from the breast mass. This material was then mounted on a\n",
    "microscope slide and stained to highlight the cellular nuclei. A portion of the slide in\n",
    "which the cells are well-differentiated was then scanned using a digital camera and a\n",
    "frame-grabber board.\n",
    "2. Researchers then isolated the individual nuclei using Xcyt. Using a mouse pointer, the\n",
    "user drew the approximate boundary of each nucleus. Using a computer vision approach\n",
    "known as “snakes”, these approximations then converged to the exact nuclear boundaries.\n",
    "3. Once all (or most) of the nuclei had been isolated in this fashion, the program computed\n",
    "values for each of ten characteristics of each nuclei, measuring size, shape and texture.\n",
    "The mean, standard error, and extreme values of these features were computed, resulting\n",
    "in a total of 30 nuclear features for each sample.\n",
    "4. In total, the final data set consists of 569 cases, or observations, and 32 variables\n",
    "including case IDs, whether the case is “Benign” or “Malignant”, and 30 nuclear features."
   ]
  },
  {
   "cell_type": "markdown",
   "metadata": {},
   "source": [
    "## II. Explotary Data Analysis"
   ]
  },
  {
   "cell_type": "markdown",
   "metadata": {},
   "source": [
    "## III. Data Modeling "
   ]
  },
  {
   "cell_type": "markdown",
   "metadata": {},
   "source": [
    "## IV. Conclusion"
   ]
  },
  {
   "cell_type": "code",
   "execution_count": null,
   "metadata": {
    "collapsed": true
   },
   "outputs": [],
   "source": []
  }
 ],
 "metadata": {
  "kernelspec": {
   "display_name": "Python 3",
   "language": "python",
   "name": "python3"
  },
  "language_info": {
   "codemirror_mode": {
    "name": "ipython",
    "version": 3
   },
   "file_extension": ".py",
   "mimetype": "text/x-python",
   "name": "python",
   "nbconvert_exporter": "python",
   "pygments_lexer": "ipython3",
   "version": "3.6.1"
  }
 },
 "nbformat": 4,
 "nbformat_minor": 2
}
