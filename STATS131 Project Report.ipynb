{
 "cells": [
  {
   "cell_type": "markdown",
   "metadata": {},
   "source": [
    "#            < Breast Cancer Diagnosis Report \\> \n",
    "###         ——       Predict Whether the Cancer is Benign or Malignant \n",
    "####             By Jemma Le, Annie Lee, Melissa Perez, Yan Bo Zeng "
   ]
  },
  {
   "cell_type": "markdown",
   "metadata": {},
   "source": [
    "## I. Context and Description of the Data"
   ]
  },
  {
   "cell_type": "markdown",
   "metadata": {},
   "source": [
    "#### A. Background information on the subject and field of study."
   ]
  },
  {
   "cell_type": "markdown",
   "metadata": {},
   "source": [
    "Breast cancer is cancer that forms in the cells of the breasts. After skin cancer, breast cancer is the most common cancer diagnosed in women in the United States. Breast cancer can occur in both men and women, but it's far more common in women.\n",
    "\n",
    "Substantial support for breast cancer awareness and research funding has helped create advances in the diagnosis and treatment of breast cancer. Breast cancer survival rates have increased, and the number of deaths associated with this disease is steadily declining, largely due to factors such as earlier detection, a new personalized approach to treatment and a better understanding of the disease.\n",
    "\n",
    "The data explores ten visually assessed\n",
    "characteristics of an FNA sample which are considered relevant to breast cancer diagnosis for diagosing the stage of breast cancer."
   ]
  },
  {
   "cell_type": "markdown",
   "metadata": {},
   "source": [
    "#### B. Information about Data Collection"
   ]
  },
  {
   "cell_type": "markdown",
   "metadata": {},
   "source": [
    "The Breast Cancer Diagnostic Data Set was created by Dr. William H. Wolberg, W. Nick Street, and Olvi L. Mangasarian, professors at University of Wisconsin. It was constructed on the demand of building sound statistical models to predict whether a breast tumor is benign, noncancerous, or malignant, cancerous, based on the features of cell nucleus sampled from the breast tumor. According to Dr. Wolberg, this work grew out of his desire to accurately diagnose breast smasses based solely on a Fine Needle Aspiration (FNA). He identified nine visually assessed\n",
    "characteristics of an FNA sample which he considered relevant to diagnosis. A classifier was then constructed using the multi-surface method (MSM) of pattern separation on these nine\n",
    "features that successfully diagnosed 97% of new cases. Later, the resulting dataset was saved and published for free as this Breast Cancer Diagnostic Data Set.\n",
    "\n",
    "There are 10 real-valued features stored in the data set. Each of them was computed from\n",
    "a digitized image of a Fine Needle Aspirate (FNA) of a breast mass. They describe\n",
    "characteristics of the cell nuclei present in the image:\n",
    "1. Radius – mean of distances from center to points on the perimeter\n",
    "2. Texture – standard deviation of gray-scale values\n",
    "3. Perimeter\n",
    "4. Area\n",
    "5. Smoothness – local variation in radius lengths\n",
    "6. Compactness – (perimeter ^ 2 / area) – 1\n",
    "7. Concavity – severity of concave portions of the contour\n",
    "8. Concave Points – number of concave portions of the contour\n",
    "9. Symmetry\n",
    "10. Fractal Dimension – coastline approximation – 1\n",
    "\n",
    "The data set stores the mean, standard error, and “worsts”, which represent the mean of the three\n",
    "largest values of these features computed for each image, resulting in 30 features.\n",
    "\n",
    "The collection of this data set was initiated by Dr. Wolberg in 1990 as Dr. Nick Street’s research team began to the help with the image analysis. The results of the research have been\n",
    "consolidated into a software system known as Xcyt. The data collection process was performed as follows:\n",
    "\n",
    "1. An FNA was taken from the breast mass. This material was then mounted on a microscope slide and stained to highlight the cellular nuclei. A portion of the slide in which the cells are well-differentiated was then scanned using a digital camera and a frame-grabber board.\n",
    "\n",
    "2. Researchers then isolated the individual nuclei using Xcyt. Using a mouse pointer, the user drew the approximate boundary of each nucleus. Using a computer vision approach known as “snakes”, these approximations then converged to the exact nuclear boundaries.\n",
    "\n",
    "3. Once all (or most) of the nuclei had been isolated in this fashion, the program computed values for each of ten characteristics of each nuclei, measuring size, shape and texture. The mean, standard error, and extreme values of these features were computed, resulting in a total of 30 nuclear features for each sample.\n",
    "\n",
    "4. In total, the final data set consists of 569 cases, or observations, and 32 variables including case IDs, whether the case is “Benign” or “Malignant”, and 30 nuclear features."
   ]
  },
  {
   "cell_type": "markdown",
   "metadata": {},
   "source": [
    "## II. Explotary Data Analysis"
   ]
  },
  {
   "cell_type": "markdown",
   "metadata": {},
   "source": [
    "## III. Data Modeling "
   ]
  },
  {
   "cell_type": "markdown",
   "metadata": {},
   "source": [
    "## IV. Conclusion"
   ]
  },
  {
   "cell_type": "code",
   "execution_count": null,
   "metadata": {
    "collapsed": true
   },
   "outputs": [],
   "source": []
  }
 ],
 "metadata": {
  "kernelspec": {
   "display_name": "Python 3",
   "language": "python",
   "name": "python3"
  },
  "language_info": {
   "codemirror_mode": {
    "name": "ipython",
    "version": 3
   },
   "file_extension": ".py",
   "mimetype": "text/x-python",
   "name": "python",
   "nbconvert_exporter": "python",
   "pygments_lexer": "ipython3",
   "version": "3.6.1"
  }
 },
 "nbformat": 4,
 "nbformat_minor": 2
}
